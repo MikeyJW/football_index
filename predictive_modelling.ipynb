{
 "cells": [
  {
   "cell_type": "markdown",
   "metadata": {},
   "source": [
    "## Predictive modelling of player prices on Football Index\n",
    "\n",
    "What accuracy can we expect if we solely try to model player price for predictive accuracy using our sparse features?"
   ]
  },
  {
   "cell_type": "code",
   "execution_count": 4,
   "metadata": {},
   "outputs": [],
   "source": [
    "import numpy as np\n",
    "import pandas as pd\n",
    "import matplotlib.pyplot as plt\n",
    "import seaborn as sns\n",
    "\n",
    "from sklearn.model_selection import train_test_split, GridSearchCV, RandomizedSearchCV, cross_val_score\n",
    "from sklearn.preprocessing import PolynomialFeatures, StandardScaler\n",
    "from sklearn.linear_model import LinearRegression, Lasso\n",
    "from sklearn.ensemble import RandomForestRegressor\n",
    "from sklearn.metrics import mean_absolute_error"
   ]
  },
  {
   "cell_type": "markdown",
   "metadata": {},
   "source": [
    "First, we load in our cleaned data and generate polynomial features. Polynomial features are included, as explained in the previous notebook, since we suspect logically that these interactions may have a significant correlation with price."
   ]
  },
  {
   "cell_type": "code",
   "execution_count": 11,
   "metadata": {},
   "outputs": [],
   "source": [
    "# Import model data\n",
    "path = 'file:///C:/Users/micha/Documents/Quant/football_index/model_data.csv'\n",
    "df = pd.read_csv(path)\n",
    "df.set_index('PlayerName', inplace=True)\n",
    "\n",
    "# Gen X and y matrices/vectors, leaving out forward to avoid multicollinearity problems\n",
    "y_col = 'CurrentPrice'\n",
    "X_cols = ['ave_matchday_score',\n",
    "          'Age',\n",
    "          'num_games_played',\n",
    "          'Midfielder',\n",
    "          'Defender',\n",
    "          'Goalkeeper']\n",
    "\n",
    "# Slice off target vector\n",
    "y = df[y_col]\n",
    "\n",
    "# Generate polynomial features, and scale the feature matrix\n",
    "X_df = df[X_cols]\n",
    "\n",
    "poly = PolynomialFeatures(degree=2, include_bias=False)\n",
    "poly_X = poly.fit_transform(X_df)\n",
    "\n",
    "# Feature scaling since we are using regularisation\n",
    "scaler = StandardScaler()\n",
    "scaled_X = scaler.fit_transform(poly_X)\n",
    "\n",
    "# Drop squares and interactions of indicator variables\n",
    "feature_names = poly.get_feature_names(X_cols)[:-6]\n",
    "X = np.delete(scaled_X, slice(-6, None), axis=1)"
   ]
  },
  {
   "cell_type": "markdown",
   "metadata": {},
   "source": [
    "Next we train test split our data, plotting distributions of the training and testing set.\n",
    "We do this as a precaution, since we are using a dataset that has a fairly positive skew toward lower player prices, we want to make sure that this is captured, especially in the test set of the data, so we do not get unreasonably optimistic estimates for our evaluation metric if the test set does not include these outlying players. "
   ]
  },
  {
   "cell_type": "code",
   "execution_count": 14,
   "metadata": {},
   "outputs": [
    {
     "data": {
      "text/plain": [
       "<matplotlib.axes._subplots.AxesSubplot at 0x23f1dc04188>"
      ]
     },
     "execution_count": 14,
     "metadata": {},
     "output_type": "execute_result"
    },
    {
     "data": {
      "image/png": "[encoded data removed]",
      "text/plain": [
       "<Figure size 432x288 with 1 Axes>"
      ]
     },
     "metadata": {
      "needs_background": "light"
     },
     "output_type": "display_data"
    }
   ],
   "source": [
    "# Train test split\n",
    "X_train, X_test, y_train, y_test = train_test_split(X, y, \n",
    "                                                    test_size=0.2, \n",
    "                                                    random_state=42)\n",
    "\n",
    "# Check stratification of train test since we have a skewed dataset and due to what \n",
    "# error metric we're using\n",
    "fig, ax = plt.subplots()\n",
    "ax.set_title('Train and test set distributions')\n",
    "sns.kdeplot(y_test, label='Training set', ax=ax)\n",
    "sns.kdeplot(y_train, label='Testing set', ax=ax);"
   ]
  },
  {
   "cell_type": "markdown",
   "metadata": {},
   "source": [
    "## Model Building"
   ]
  },
  {
   "cell_type": "markdown",
   "metadata": {},
   "source": [
    "#### Model 1: Benchmark linear regression\n",
    "\n",
    "As a benchmark we check fit quality of a polynomial linear regression. We will be using mean absolute error (MAE) as our evaluation metric of choice, since when examening our dataset, we find it fairly positively skewed, with some 'star' players being quoted at far higher prices than others. These players are priced highly while not seemingly proportionally outperforming their competition, so we do not want our model to over-weight these outlying datapoints.  "
   ]
  },
  {
   "cell_type": "code",
   "execution_count": 17,
   "metadata": {},
   "outputs": [
    {
     "data": {
      "text/plain": [
       "-0.35024912445630174"
      ]
     },
     "execution_count": 17,
     "metadata": {},
     "output_type": "execute_result"
    }
   ],
   "source": [
    "# Train vanilla model\n",
    "lm = LinearRegression()\n",
    "model_1 = lm.fit(X_train, y_train)\n",
    "coeffs = model_1.coef_\n",
    "\n",
    "np.mean(cross_val_score(lm, X_train, y_train, scoring='neg_mean_absolute_error'))"
   ]
  },
  {
   "cell_type": "markdown",
   "metadata": {},
   "source": [
    "Since this is a vanilla linear model with scaled features, we are easily able to check feature importance by directly comparing coefficients from the model. This can be used to see if identify any possible dead weight among our features."
   ]
  },
  {
   "cell_type": "code",
   "execution_count": 1,
   "metadata": {},
   "outputs": [
    {
     "ename": "NameError",
     "evalue": "name 'pd' is not defined",
     "output_type": "error",
     "traceback": [
      "\u001b[1;31m---------------------------------------------------------------------------\u001b[0m",
      "\u001b[1;31mNameError\u001b[0m                                 Traceback (most recent call last)",
      "\u001b[1;32m<ipython-input-1-1fe3df25ae2b>\u001b[0m in \u001b[0;36m<module>\u001b[1;34m\u001b[0m\n\u001b[0;32m      1\u001b[0m \u001b[1;31m# Feature importance mapped out. Since we have scaling in the pipeline we can do this...\u001b[0m\u001b[1;33m\u001b[0m\u001b[1;33m\u001b[0m\u001b[1;33m\u001b[0m\u001b[0m\n\u001b[1;32m----> 2\u001b[1;33m \u001b[0mfeature_importance\u001b[0m \u001b[1;33m=\u001b[0m \u001b[0mpd\u001b[0m\u001b[1;33m.\u001b[0m\u001b[0mSeries\u001b[0m\u001b[1;33m(\u001b[0m\u001b[0mcoeffs\u001b[0m\u001b[1;33m,\u001b[0m \u001b[0mindex\u001b[0m\u001b[1;33m=\u001b[0m\u001b[0mfeature_names\u001b[0m\u001b[1;33m)\u001b[0m\u001b[1;33m.\u001b[0m\u001b[0mabs\u001b[0m\u001b[1;33m(\u001b[0m\u001b[1;33m)\u001b[0m\u001b[1;33m.\u001b[0m\u001b[0msort_values\u001b[0m\u001b[1;33m(\u001b[0m\u001b[0mascending\u001b[0m\u001b[1;33m=\u001b[0m\u001b[1;32mFalse\u001b[0m\u001b[1;33m)\u001b[0m\u001b[1;33m\u001b[0m\u001b[1;33m\u001b[0m\u001b[0m\n\u001b[0m\u001b[0;32m      3\u001b[0m \u001b[1;33m\u001b[0m\u001b[0m\n\u001b[0;32m      4\u001b[0m \u001b[1;31m# Plotting feature importance...\u001b[0m\u001b[1;33m\u001b[0m\u001b[1;33m\u001b[0m\u001b[1;33m\u001b[0m\u001b[0m\n\u001b[0;32m      5\u001b[0m \u001b[0mfeature_importance\u001b[0m\u001b[1;33m.\u001b[0m\u001b[0mplot\u001b[0m\u001b[1;33m.\u001b[0m\u001b[0mbar\u001b[0m\u001b[1;33m(\u001b[0m\u001b[0mtitle\u001b[0m\u001b[1;33m=\u001b[0m\u001b[1;34m'Polynomial feature importance'\u001b[0m\u001b[1;33m)\u001b[0m\u001b[1;33m;\u001b[0m\u001b[1;33m\u001b[0m\u001b[1;33m\u001b[0m\u001b[0m\n",
      "\u001b[1;31mNameError\u001b[0m: name 'pd' is not defined"
     ]
    }
   ],
   "source": [
    "# Feature importance mapped out. Since we have scaling in the pipeline we can do this...\n",
    "feature_importance = pd.Series(coeffs, index=feature_names).abs().sort_values(ascending=False)\n",
    "\n",
    "# Plotting feature importance...\n",
    "feature_importance.plot.bar(title='Feature importance');"
   ]
  },
  {
   "cell_type": "markdown",
   "metadata": {},
   "source": [
    "Considering the plot above, a regularised linear regression may help our original model by disregarding some of the seemingly unimportant interaction terms toward the right hand side of the plot, which could be offering more noise than signal to the model. Therefore, we opt to try a lasso-style regression, which uses a regularisation term to penalise using non-zero coefficients within the linear model. This will cause the model to assign less weight to, or drop entirely features if they are unimportant."
   ]
  },
  {
   "cell_type": "markdown",
   "metadata": {},
   "source": [
    "#### Model 2: LASSO"
   ]
  },
  {
   "cell_type": "code",
   "execution_count": 25,
   "metadata": {},
   "outputs": [
    {
     "name": "stdout",
     "output_type": "stream",
     "text": [
      "{'alpha': 0.005}\n",
      "-0.3518986383151682\n"
     ]
    }
   ],
   "source": [
    "# MODEL 2: LASSO\n",
    "\n",
    "# Using k-fold cv to find optimal alpha\n",
    "lasso = Lasso()\n",
    "\n",
    "# mae since we know we have outliers, we don't want to fit to these too much\n",
    "lasso_grid = {'alpha': list(np.arange(0.005, 1, 0.005))}\n",
    "model_2 = GridSearchCV(lasso, lasso_grid, scoring='neg_mean_absolute_error')\n",
    "\n",
    "results = model.fit(X_train, y_train)\n",
    "\n",
    "print(results.best_params_)\n",
    "print(results.best_score_)"
   ]
  },
  {
   "cell_type": "markdown",
   "metadata": {},
   "source": [
    "When grid search optimising the regularisation term in our lasso regression, it is clear we dont have excessive model complexity here for our modest amount of training data. Including no regularisation (alpha=0) appears to offer better fit than including any atall. Therefore, we decide to try increasing model complexity to gain performance.\n",
    "\n",
    "We will now try a random forest regression to attempt to capture some more subtle non-linearities and interactions between our features that are important to our target variable.\n",
    "\n",
    "Note that, since we have seen that the polynomial features used in the above regressions are generally fairly useful to the above models, we pass these directly to our random forest regressor. We do this so that it does not have to learn to generate these features itself, it can simply choose to include or discard features as the algorithm decides. This will hopefully add to model performance."
   ]
  },
  {
   "cell_type": "code",
   "execution_count": 26,
   "metadata": {},
   "outputs": [
    {
     "data": {
      "text/plain": [
       "-0.34594201208041664"
      ]
     },
     "execution_count": 26,
     "metadata": {},
     "output_type": "execute_result"
    }
   ],
   "source": [
    "# First use default sklearn rf hyper-parameters\n",
    "rf = RandomForestRegressor(n_jobs=-1)\n",
    "np.mean(cross_val_score(rf, X_train, y_train, scoring='neg_mean_absolute_error'))"
   ]
  },
  {
   "cell_type": "markdown",
   "metadata": {},
   "source": [
    "From this first attempt there is not much improvement in model performance over a simple linear regression, so we try tuning a few hyperparameters to see if we can improve model performance.\n",
    "\n",
    "Since our random forest model is far more complex than the above models, but provides only slightly improved cross-validation accuracy, we suspect that overfitting may be hindering performance. Therefore we focus on tuning parameters associated with model complexity.  \n",
    "\n",
    "As we are fairly unsure of what values may be near optimal for our fairly small and very specialised dataset, we first use a randomized search to narrow down our options. "
   ]
  },
  {
   "cell_type": "code",
   "execution_count": 28,
   "metadata": {},
   "outputs": [
    {
     "name": "stdout",
     "output_type": "stream",
     "text": [
      "{'min_samples_split': 13, 'max_leaf_nodes': 68, 'max_depth': 27}\n",
      "-0.3469915068635177\n"
     ]
    }
   ],
   "source": [
    "# Narrow down your options\n",
    "random_grid = {'max_depth': np.arange(5, 50),\n",
    "               'min_samples_split': np.arange(2, 50),\n",
    "               'max_leaf_nodes': np.arange(5, 100)}  # wide net\n",
    "\n",
    "random_search = RandomizedSearchCV(rf, random_grid, \n",
    "                           scoring='neg_mean_absolute_error', random_state=42,\n",
    "                           n_iter=25)\n",
    "results_1 = random_search.fit(X_train, y_train)\n",
    "\n",
    "print(results_1.best_params_)\n",
    "print(results_1.best_score_)"
   ]
  },
  {
   "cell_type": "markdown",
   "metadata": {},
   "source": [
    "Now we have some initial estimates of what good hyperparameter selections look like for our application, we can use a grid search that tests all combinations of values around these initial estimates, to try to find at least a local optimum solution. "
   ]
  },
  {
   "cell_type": "code",
   "execution_count": 31,
   "metadata": {},
   "outputs": [
    {
     "name": "stdout",
     "output_type": "stream",
     "text": [
      "{'max_depth': 28, 'max_leaf_nodes': 65, 'min_samples_split': 8}\n",
      "-0.34500163465126654\n"
     ]
    }
   ],
   "source": [
    "# Final tune\n",
    "param_grid = {'max_depth': np.arange(22, 33, 2),\n",
    "               'min_samples_split': np.arange(8, 19, 2),\n",
    "               'max_leaf_nodes': np.arange(63, 74, 2)}  # narrow net\n",
    "\n",
    "grid_search = GridSearchCV(rf, param_grid, scoring='neg_mean_absolute_error')\n",
    "results_2 = grid_search.fit(X_train, y_train)\n",
    "print(results_2.best_params_)\n",
    "print(results_2.best_score_)"
   ]
  },
  {
   "cell_type": "markdown",
   "metadata": {},
   "source": [
    "We appear to; without adding extra data or features, maxed out our RF model for the purpose of most accurately predicting football index player prices. \n",
    "\n",
    "Despite our random forest model having slightly better cross validation accuracy, we select our original linear regression as candidate model. We do this for 2 reasons...\n",
    "\n",
    "- Occams protocol. Given equitable performance, a simple model is better than a complex model.\n",
    "- Explicit is better than implicit. How a linear model produces predictions is far more explicit than the random forest, which is an additional bonus."
   ]
  },
  {
   "cell_type": "markdown",
   "metadata": {},
   "source": [
    "### Candidate model performance and conclusion"
   ]
  },
  {
   "cell_type": "code",
   "execution_count": 32,
   "metadata": {},
   "outputs": [
    {
     "data": {
      "text/plain": [
       "0.28332005619362893"
      ]
     },
     "execution_count": 32,
     "metadata": {},
     "output_type": "execute_result"
    }
   ],
   "source": [
    "# Final results\n",
    "final_model = LinearRegression().fit(X_train, y_train)\n",
    "\n",
    "y_pred_test = model.predict(X_test)\n",
    "mean_absolute_error(y_test, y_pred_test)"
   ]
  },
  {
   "cell_type": "markdown",
   "metadata": {},
   "source": [
    "As we can see, our linear model seems to generalise quite well, which we would expect given its simplicity. It achieves an MAE of around £0.28 when predicting player prices in the test set. \n",
    "\n",
    "Taking into account all the results from above, we have likely exhausted most predictive power out of our sparse features, so if significant improvements were to be made, collecting more features would likely be our best bet. A metric for player popularity, proxied by social media followers for example, could be a good predicter to use when explaining these extremely highly priced outlying players."
   ]
  }
 ],
 "metadata": {
  "kernelspec": {
   "display_name": "Python 3",
   "language": "python",
   "name": "python3"
  },
  "language_info": {
   "codemirror_mode": {
    "name": "ipython",
    "version": 3
   },
   "file_extension": ".py",
   "mimetype": "text/x-python",
   "name": "python",
   "nbconvert_exporter": "python",
   "pygments_lexer": "ipython3",
   "version": "3.7.7"
  }
 },
 "nbformat": 4,
 "nbformat_minor": 4
}
