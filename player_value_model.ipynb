{
 "cells": [
  {
   "cell_type": "markdown",
   "metadata": {},
   "source": [
    "# Fundamental value model for player prices"
   ]
  },
  {
   "cell_type": "markdown",
   "metadata": {},
   "source": [
    "TODO: Care can we do feature importance???"
   ]
  },
  {
   "cell_type": "markdown",
   "metadata": {},
   "source": [
    "TODO: Check interaction between position type and age for example. Goalies can be older, this effects the age situation a bit. Check how to sort this out. Or do the Random forest headroom trick\n",
    "acknowledge that could deal with this problem a little. Then identify some potentially undervalued bois."
   ]
  },
  {
   "cell_type": "code",
   "execution_count": 2,
   "metadata": {},
   "outputs": [],
   "source": [
    "import numpy as np\n",
    "import pandas as pd\n",
    "import matplotlib.pyplot as plt\n",
    "import seaborn as sns\n",
    "import statsmodels.api as sm"
   ]
  },
  {
   "cell_type": "code",
   "execution_count": 3,
   "metadata": {},
   "outputs": [],
   "source": [
    "# Import from files...\n",
    "df1 = pd.read_csv('matchday_scores.csv')\n",
    "df1['Date'] = pd.to_datetime(df1['Date'], format='%d/%m/%Y')\n",
    "\n",
    "df2 = pd.read_csv('player_info.csv')\n",
    "df2.set_index('PlayerName', inplace=True)"
   ]
  },
  {
   "cell_type": "code",
   "execution_count": 4,
   "metadata": {},
   "outputs": [
    {
     "name": "stderr",
     "output_type": "stream",
     "text": [
      "C:\\Users\\micha\\anaconda3\\envs\\football_index\\lib\\site-packages\\ipykernel_launcher.py:14: SettingWithCopyWarning: \n",
      "A value is trying to be set on a copy of a slice from a DataFrame.\n",
      "Try using .loc[row_indexer,col_indexer] = value instead\n",
      "\n",
      "See the caveats in the documentation: https://pandas.pydata.org/pandas-docs/stable/user_guide/indexing.html#returning-a-view-versus-a-copy\n",
      "  \n"
     ]
    }
   ],
   "source": [
    "# Extract average matchday score since game x\n",
    "season_start = '2020-09-12' # Start of UK football season\n",
    "df1 = df1[df1['Date'] >= season_start]\n",
    "\n",
    "ave_matchday_score = df1.groupby('PlayerName')['MatchdayScore'].mean()\n",
    "num_games_played = df1.groupby('PlayerName').size()\n",
    "\n",
    "df2['ave_matchday_score'] = ave_matchday_score\n",
    "df2['num_games_played'] = num_games_played\n",
    "\n",
    "df = df2[['Position', 'Age', 'num_games_played', 'ave_matchday_score',  'CurrentPrice']]\n",
    "\n",
    "# Clean up df\n",
    "df['CurrentPrice'] = df['CurrentPrice'].str.strip('£').astype('float64')"
   ]
  },
  {
   "cell_type": "code",
   "execution_count": 21,
   "metadata": {},
   "outputs": [],
   "source": [
    "# Generate positional dummies\n",
    "df = pd.get_dummies(df, prefix='', prefix_sep='')\n",
    "\n",
    "yX = df[df['num_games_played'] >= 5]\n",
    "\n",
    "# Regress\n",
    "y = yX['CurrentPrice']\n",
    "X = yX[['Age', 'ave_matchday_score', #'num_games_played', \n",
    "        'Forward', 'Midfielder', 'Defender', 'Goalkeeper']]"
   ]
  },
  {
   "cell_type": "code",
   "execution_count": 6,
   "metadata": {},
   "outputs": [
    {
     "data": {
      "text/plain": [
       "<matplotlib.axes._subplots.AxesSubplot at 0x19d13e51248>"
      ]
     },
     "execution_count": 6,
     "metadata": {},
     "output_type": "execute_result"
    },
    {
     "data": {
      "image/png": "[encoded data removed]",
      "text/plain": [
       "<Figure size 432x288 with 2 Axes>"
      ]
     },
     "metadata": {
      "needs_background": "light"
     },
     "output_type": "display_data"
    }
   ],
   "source": [
    "# Check for multicollinearity among explanatory vars\n",
    "corr_table = X.corr()\n",
    "#mask = np.zeros_like(corr_table)\n",
    "#mask[np.triu_indices_from(mask)] = True\n",
    "sns.heatmap(corr_table, cmap=\"YlGnBu\")"
   ]
  },
  {
   "cell_type": "code",
   "execution_count": 7,
   "metadata": {},
   "outputs": [
    {
     "name": "stderr",
     "output_type": "stream",
     "text": [
      "C:\\Users\\micha\\anaconda3\\envs\\football_index\\lib\\site-packages\\scipy\\stats\\_distn_infrastructure.py:1932: RuntimeWarning: invalid value encountered in less_equal\n",
      "  cond2 = cond0 & (x <= _a)\n"
     ]
    },
    {
     "data": {
      "text/html": [
       "<table class=\"simpletable\">\n",
       "<caption>OLS Regression Results</caption>\n",
       "<tr>\n",
       "  <th>Dep. Variable:</th>      <td>CurrentPrice</td>   <th>  R-squared:         </th> <td>   0.344</td>\n",
       "</tr>\n",
       "<tr>\n",
       "  <th>Model:</th>                   <td>OLS</td>       <th>  Adj. R-squared:    </th> <td>   0.342</td>\n",
       "</tr>\n",
       "<tr>\n",
       "  <th>Method:</th>             <td>Least Squares</td>  <th>  F-statistic:       </th> <td>     nan</td>\n",
       "</tr>\n",
       "<tr>\n",
       "  <th>Date:</th>             <td>Sat, 14 Nov 2020</td> <th>  Prob (F-statistic):</th>  <td>   nan</td> \n",
       "</tr>\n",
       "<tr>\n",
       "  <th>Time:</th>                 <td>10:01:16</td>     <th>  Log-Likelihood:    </th> <td> -1380.4</td>\n",
       "</tr>\n",
       "<tr>\n",
       "  <th>No. Observations:</th>      <td>  1358</td>      <th>  AIC:               </th> <td>   2773.</td>\n",
       "</tr>\n",
       "<tr>\n",
       "  <th>Df Residuals:</th>          <td>  1352</td>      <th>  BIC:               </th> <td>   2804.</td>\n",
       "</tr>\n",
       "<tr>\n",
       "  <th>Df Model:</th>              <td>     5</td>      <th>                     </th>     <td> </td>   \n",
       "</tr>\n",
       "<tr>\n",
       "  <th>Covariance Type:</th>         <td>HC0</td>       <th>                     </th>     <td> </td>   \n",
       "</tr>\n",
       "</table>\n",
       "<table class=\"simpletable\">\n",
       "<tr>\n",
       "           <td></td>             <th>coef</th>     <th>std err</th>      <th>z</th>      <th>P>|z|</th>  <th>[0.025</th>    <th>0.975]</th>  \n",
       "</tr>\n",
       "<tr>\n",
       "  <th>Age</th>                <td>   -0.0641</td> <td>    0.006</td> <td>  -11.439</td> <td> 0.000</td> <td>   -0.075</td> <td>   -0.053</td>\n",
       "</tr>\n",
       "<tr>\n",
       "  <th>ave_matchday_score</th> <td>    0.0093</td> <td>    0.001</td> <td>    9.977</td> <td> 0.000</td> <td>    0.007</td> <td>    0.011</td>\n",
       "</tr>\n",
       "<tr>\n",
       "  <th>Forward</th>            <td>    2.2519</td> <td>    0.156</td> <td>   14.424</td> <td> 0.000</td> <td>    1.946</td> <td>    2.558</td>\n",
       "</tr>\n",
       "<tr>\n",
       "  <th>Midfielder</th>         <td>    1.8854</td> <td>    0.154</td> <td>   12.239</td> <td> 0.000</td> <td>    1.584</td> <td>    2.187</td>\n",
       "</tr>\n",
       "<tr>\n",
       "  <th>Defender</th>           <td>    1.6859</td> <td>    0.155</td> <td>   10.855</td> <td> 0.000</td> <td>    1.381</td> <td>    1.990</td>\n",
       "</tr>\n",
       "<tr>\n",
       "  <th>Goalkeeper</th>         <td>    1.7877</td> <td>    0.162</td> <td>   11.060</td> <td> 0.000</td> <td>    1.471</td> <td>    2.105</td>\n",
       "</tr>\n",
       "</table>\n",
       "<table class=\"simpletable\">\n",
       "<tr>\n",
       "  <th>Omnibus:</th>       <td>1252.217</td> <th>  Durbin-Watson:     </th> <td>   1.055</td> \n",
       "</tr>\n",
       "<tr>\n",
       "  <th>Prob(Omnibus):</th>  <td> 0.000</td>  <th>  Jarque-Bera (JB):  </th> <td>51950.702</td>\n",
       "</tr>\n",
       "<tr>\n",
       "  <th>Skew:</th>           <td> 4.248</td>  <th>  Prob(JB):          </th> <td>    0.00</td> \n",
       "</tr>\n",
       "<tr>\n",
       "  <th>Kurtosis:</th>       <td>32.085</td>  <th>  Cond. No.          </th> <td>1.11e+03</td> \n",
       "</tr>\n",
       "</table><br/><br/>Warnings:<br/>[1] Standard Errors are heteroscedasticity robust (HC0)<br/>[2] The condition number is large, 1.11e+03. This might indicate that there are<br/>strong multicollinearity or other numerical problems."
      ],
      "text/plain": [
       "<class 'statsmodels.iolib.summary.Summary'>\n",
       "\"\"\"\n",
       "                            OLS Regression Results                            \n",
       "==============================================================================\n",
       "Dep. Variable:           CurrentPrice   R-squared:                       0.344\n",
       "Model:                            OLS   Adj. R-squared:                  0.342\n",
       "Method:                 Least Squares   F-statistic:                       nan\n",
       "Date:                Sat, 14 Nov 2020   Prob (F-statistic):                nan\n",
       "Time:                        10:01:16   Log-Likelihood:                -1380.4\n",
       "No. Observations:                1358   AIC:                             2773.\n",
       "Df Residuals:                    1352   BIC:                             2804.\n",
       "Df Model:                           5                                         \n",
       "Covariance Type:                  HC0                                         \n",
       "======================================================================================\n",
       "                         coef    std err          z      P>|z|      [0.025      0.975]\n",
       "--------------------------------------------------------------------------------------\n",
       "Age                   -0.0641      0.006    -11.439      0.000      -0.075      -0.053\n",
       "ave_matchday_score     0.0093      0.001      9.977      0.000       0.007       0.011\n",
       "Forward                2.2519      0.156     14.424      0.000       1.946       2.558\n",
       "Midfielder             1.8854      0.154     12.239      0.000       1.584       2.187\n",
       "Defender               1.6859      0.155     10.855      0.000       1.381       1.990\n",
       "Goalkeeper             1.7877      0.162     11.060      0.000       1.471       2.105\n",
       "==============================================================================\n",
       "Omnibus:                     1252.217   Durbin-Watson:                   1.055\n",
       "Prob(Omnibus):                  0.000   Jarque-Bera (JB):            51950.702\n",
       "Skew:                           4.248   Prob(JB):                         0.00\n",
       "Kurtosis:                      32.085   Cond. No.                     1.11e+03\n",
       "==============================================================================\n",
       "\n",
       "Warnings:\n",
       "[1] Standard Errors are heteroscedasticity robust (HC0)\n",
       "[2] The condition number is large, 1.11e+03. This might indicate that there are\n",
       "strong multicollinearity or other numerical problems.\n",
       "\"\"\""
      ]
     },
     "execution_count": 7,
     "metadata": {},
     "output_type": "execute_result"
    }
   ],
   "source": [
    "# Proceed\n",
    "model = sm.OLS(y, X).fit(cov_type='HC0')\n",
    "model.summary()"
   ]
  },
  {
   "cell_type": "markdown",
   "metadata": {},
   "source": [
    "Optimise your spec"
   ]
  },
  {
   "cell_type": "code",
   "execution_count": 9,
   "metadata": {},
   "outputs": [
    {
     "data": {
      "image/png": "[encoded data removed]",
      "text/plain": [
       "<Figure size 432x288 with 1 Axes>"
      ]
     },
     "metadata": {
      "needs_background": "light"
     },
     "output_type": "display_data"
    }
   ],
   "source": [
    "# Consider \n",
    "sm.graphics.plot_partregress('CurrentPrice', 'Age', ['ave_matchday_score', 'Forward', 'Midfielder', 'Defender', 'Goalkeeper'], data=yX, obs_labels=False);"
   ]
  },
  {
   "cell_type": "code",
   "execution_count": 11,
   "metadata": {},
   "outputs": [
    {
     "data": {
      "image/png": "[encoded data removed]",
      "text/plain": [
       "<Figure size 432x288 with 1 Axes>"
      ]
     },
     "metadata": {
      "needs_background": "light"
     },
     "output_type": "display_data"
    }
   ],
   "source": [
    "sm.graphics.plot_partregress('CurrentPrice', 'ave_matchday_score', ['Age', 'Forward', 'Midfielder', 'Defender', 'Goalkeeper'], data=yX, obs_labels=False);\n",
    "# SAY THEY COULD BE OUTLIERS THO. lOOK AT THEM PLOTS, THEY'RE PRETTY WILD\n",
    "# Can you label outliers?"
   ]
  },
  {
   "cell_type": "code",
   "execution_count": 25,
   "metadata": {},
   "outputs": [
    {
     "name": "stderr",
     "output_type": "stream",
     "text": [
      "C:\\Users\\micha\\anaconda3\\envs\\football_index\\lib\\site-packages\\scipy\\stats\\_distn_infrastructure.py:1932: RuntimeWarning: invalid value encountered in less_equal\n",
      "  cond2 = cond0 & (x <= _a)\n"
     ]
    },
    {
     "data": {
      "text/html": [
       "<table class=\"simpletable\">\n",
       "<caption>OLS Regression Results</caption>\n",
       "<tr>\n",
       "  <th>Dep. Variable:</th>      <td>CurrentPrice</td>   <th>  R-squared:         </th> <td>   0.460</td>\n",
       "</tr>\n",
       "<tr>\n",
       "  <th>Model:</th>                   <td>OLS</td>       <th>  Adj. R-squared:    </th> <td>   0.457</td>\n",
       "</tr>\n",
       "<tr>\n",
       "  <th>Method:</th>             <td>Least Squares</td>  <th>  F-statistic:       </th> <td>     nan</td>\n",
       "</tr>\n",
       "<tr>\n",
       "  <th>Date:</th>             <td>Sat, 14 Nov 2020</td> <th>  Prob (F-statistic):</th>  <td>   nan</td> \n",
       "</tr>\n",
       "<tr>\n",
       "  <th>Time:</th>                 <td>11:06:15</td>     <th>  Log-Likelihood:    </th> <td> -1248.4</td>\n",
       "</tr>\n",
       "<tr>\n",
       "  <th>No. Observations:</th>      <td>  1358</td>      <th>  AIC:               </th> <td>   2513.</td>\n",
       "</tr>\n",
       "<tr>\n",
       "  <th>Df Residuals:</th>          <td>  1350</td>      <th>  BIC:               </th> <td>   2554.</td>\n",
       "</tr>\n",
       "<tr>\n",
       "  <th>Df Model:</th>              <td>     7</td>      <th>                     </th>     <td> </td>   \n",
       "</tr>\n",
       "<tr>\n",
       "  <th>Covariance Type:</th>         <td>HC0</td>       <th>                     </th>     <td> </td>   \n",
       "</tr>\n",
       "</table>\n",
       "<table class=\"simpletable\">\n",
       "<tr>\n",
       "           <td></td>              <th>coef</th>     <th>std err</th>      <th>z</th>      <th>P>|z|</th>  <th>[0.025</th>    <th>0.975]</th>  \n",
       "</tr>\n",
       "<tr>\n",
       "  <th>Age</th>                 <td>   -0.4850</td> <td>    0.068</td> <td>   -7.095</td> <td> 0.000</td> <td>   -0.619</td> <td>   -0.351</td>\n",
       "</tr>\n",
       "<tr>\n",
       "  <th>Age2</th>                <td>    0.0077</td> <td>    0.001</td> <td>    6.409</td> <td> 0.000</td> <td>    0.005</td> <td>    0.010</td>\n",
       "</tr>\n",
       "<tr>\n",
       "  <th>ave_matchday_score</th>  <td>   -0.0071</td> <td>    0.002</td> <td>   -3.049</td> <td> 0.002</td> <td>   -0.012</td> <td>   -0.003</td>\n",
       "</tr>\n",
       "<tr>\n",
       "  <th>ave_matchday_score2</th> <td>    0.0001</td> <td>  2.1e-05</td> <td>    5.718</td> <td> 0.000</td> <td>  7.9e-05</td> <td>    0.000</td>\n",
       "</tr>\n",
       "<tr>\n",
       "  <th>Forward</th>             <td>    8.2421</td> <td>    0.957</td> <td>    8.611</td> <td> 0.000</td> <td>    6.366</td> <td>   10.118</td>\n",
       "</tr>\n",
       "<tr>\n",
       "  <th>Midfielder</th>          <td>    7.9443</td> <td>    0.957</td> <td>    8.306</td> <td> 0.000</td> <td>    6.070</td> <td>    9.819</td>\n",
       "</tr>\n",
       "<tr>\n",
       "  <th>Defender</th>            <td>    7.7180</td> <td>    0.953</td> <td>    8.102</td> <td> 0.000</td> <td>    5.851</td> <td>    9.585</td>\n",
       "</tr>\n",
       "<tr>\n",
       "  <th>Goalkeeper</th>          <td>    7.7938</td> <td>    0.952</td> <td>    8.190</td> <td> 0.000</td> <td>    5.929</td> <td>    9.659</td>\n",
       "</tr>\n",
       "</table>\n",
       "<table class=\"simpletable\">\n",
       "<tr>\n",
       "  <th>Omnibus:</th>       <td>1109.675</td> <th>  Durbin-Watson:     </th> <td>   1.147</td> \n",
       "</tr>\n",
       "<tr>\n",
       "  <th>Prob(Omnibus):</th>  <td> 0.000</td>  <th>  Jarque-Bera (JB):  </th> <td>38245.562</td>\n",
       "</tr>\n",
       "<tr>\n",
       "  <th>Skew:</th>           <td> 3.558</td>  <th>  Prob(JB):          </th> <td>    0.00</td> \n",
       "</tr>\n",
       "<tr>\n",
       "  <th>Kurtosis:</th>       <td>28.006</td>  <th>  Cond. No.          </th> <td>5.60e+05</td> \n",
       "</tr>\n",
       "</table><br/><br/>Warnings:<br/>[1] Standard Errors are heteroscedasticity robust (HC0)<br/>[2] The condition number is large, 5.6e+05. This might indicate that there are<br/>strong multicollinearity or other numerical problems."
      ],
      "text/plain": [
       "<class 'statsmodels.iolib.summary.Summary'>\n",
       "\"\"\"\n",
       "                            OLS Regression Results                            \n",
       "==============================================================================\n",
       "Dep. Variable:           CurrentPrice   R-squared:                       0.460\n",
       "Model:                            OLS   Adj. R-squared:                  0.457\n",
       "Method:                 Least Squares   F-statistic:                       nan\n",
       "Date:                Sat, 14 Nov 2020   Prob (F-statistic):                nan\n",
       "Time:                        11:06:15   Log-Likelihood:                -1248.4\n",
       "No. Observations:                1358   AIC:                             2513.\n",
       "Df Residuals:                    1350   BIC:                             2554.\n",
       "Df Model:                           7                                         \n",
       "Covariance Type:                  HC0                                         \n",
       "=======================================================================================\n",
       "                          coef    std err          z      P>|z|      [0.025      0.975]\n",
       "---------------------------------------------------------------------------------------\n",
       "Age                    -0.4850      0.068     -7.095      0.000      -0.619      -0.351\n",
       "Age2                    0.0077      0.001      6.409      0.000       0.005       0.010\n",
       "ave_matchday_score     -0.0071      0.002     -3.049      0.002      -0.012      -0.003\n",
       "ave_matchday_score2     0.0001    2.1e-05      5.718      0.000     7.9e-05       0.000\n",
       "Forward                 8.2421      0.957      8.611      0.000       6.366      10.118\n",
       "Midfielder              7.9443      0.957      8.306      0.000       6.070       9.819\n",
       "Defender                7.7180      0.953      8.102      0.000       5.851       9.585\n",
       "Goalkeeper              7.7938      0.952      8.190      0.000       5.929       9.659\n",
       "==============================================================================\n",
       "Omnibus:                     1109.675   Durbin-Watson:                   1.147\n",
       "Prob(Omnibus):                  0.000   Jarque-Bera (JB):            38245.562\n",
       "Skew:                           3.558   Prob(JB):                         0.00\n",
       "Kurtosis:                      28.006   Cond. No.                     5.60e+05\n",
       "==============================================================================\n",
       "\n",
       "Warnings:\n",
       "[1] Standard Errors are heteroscedasticity robust (HC0)\n",
       "[2] The condition number is large, 5.6e+05. This might indicate that there are\n",
       "strong multicollinearity or other numerical problems.\n",
       "\"\"\""
      ]
     },
     "execution_count": 25,
     "metadata": {},
     "output_type": "execute_result"
    }
   ],
   "source": [
    "# Adding in non-linear terms\n",
    "yX['Age2'] = yX['Age']**2\n",
    "yX['ave_matchday_score2'] = yX['ave_matchday_score']**2\n",
    "\n",
    "X_adjusted = yX[['Age', 'Age2', 'ave_matchday_score', 'ave_matchday_score2',#'num_games_played', \n",
    "        'Forward', 'Midfielder', 'Defender', 'Goalkeeper']]\n",
    "\n",
    "model = sm.OLS(y, X_adjusted).fit(cov_type='HC0')\n",
    "model.summary()"
   ]
  },
  {
   "cell_type": "code",
   "execution_count": 32,
   "metadata": {},
   "outputs": [
    {
     "data": {
      "text/html": [
       "<table class=\"simpletable\">\n",
       "<caption>OLS Regression Results</caption>\n",
       "<tr>\n",
       "  <th>Dep. Variable:</th>      <td>CurrentPrice</td>   <th>  R-squared:         </th> <td>   0.475</td>\n",
       "</tr>\n",
       "<tr>\n",
       "  <th>Model:</th>                   <td>OLS</td>       <th>  Adj. R-squared:    </th> <td>   0.470</td>\n",
       "</tr>\n",
       "<tr>\n",
       "  <th>Method:</th>             <td>Least Squares</td>  <th>  F-statistic:       </th> <td>     nan</td>\n",
       "</tr>\n",
       "<tr>\n",
       "  <th>Date:</th>             <td>Sat, 14 Nov 2020</td> <th>  Prob (F-statistic):</th>  <td>   nan</td> \n",
       "</tr>\n",
       "<tr>\n",
       "  <th>Time:</th>                 <td>11:25:38</td>     <th>  Log-Likelihood:    </th> <td> -1229.8</td>\n",
       "</tr>\n",
       "<tr>\n",
       "  <th>No. Observations:</th>      <td>  1358</td>      <th>  AIC:               </th> <td>   2484.</td>\n",
       "</tr>\n",
       "<tr>\n",
       "  <th>Df Residuals:</th>          <td>  1346</td>      <th>  BIC:               </th> <td>   2546.</td>\n",
       "</tr>\n",
       "<tr>\n",
       "  <th>Df Model:</th>              <td>    11</td>      <th>                     </th>     <td> </td>   \n",
       "</tr>\n",
       "<tr>\n",
       "  <th>Covariance Type:</th>         <td>HC0</td>       <th>                     </th>     <td> </td>   \n",
       "</tr>\n",
       "</table>\n",
       "<table class=\"simpletable\">\n",
       "<tr>\n",
       "           <td></td>              <th>coef</th>     <th>std err</th>      <th>z</th>      <th>P>|z|</th>  <th>[0.025</th>    <th>0.975]</th>  \n",
       "</tr>\n",
       "<tr>\n",
       "  <th>Age_Forward</th>         <td>   -2.0774</td> <td>    0.452</td> <td>   -4.594</td> <td> 0.000</td> <td>   -2.964</td> <td>   -1.191</td>\n",
       "</tr>\n",
       "<tr>\n",
       "  <th>Age_Midfielder</th>      <td>   -2.0850</td> <td>    0.452</td> <td>   -4.613</td> <td> 0.000</td> <td>   -2.971</td> <td>   -1.199</td>\n",
       "</tr>\n",
       "<tr>\n",
       "  <th>Age_Defender</th>        <td>   -2.0625</td> <td>    0.451</td> <td>   -4.578</td> <td> 0.000</td> <td>   -2.946</td> <td>   -1.179</td>\n",
       "</tr>\n",
       "<tr>\n",
       "  <th>Age_Goalkeeper</th>      <td>   -2.0435</td> <td>    0.450</td> <td>   -4.545</td> <td> 0.000</td> <td>   -2.925</td> <td>   -1.162</td>\n",
       "</tr>\n",
       "<tr>\n",
       "  <th>ave_matchday_score</th>  <td>   -0.0070</td> <td>    0.002</td> <td>   -2.982</td> <td> 0.003</td> <td>   -0.012</td> <td>   -0.002</td>\n",
       "</tr>\n",
       "<tr>\n",
       "  <th>ave_matchday_score2</th> <td>    0.0001</td> <td> 2.11e-05</td> <td>    5.698</td> <td> 0.000</td> <td> 7.88e-05</td> <td>    0.000</td>\n",
       "</tr>\n",
       "<tr>\n",
       "  <th>Age2</th>                <td>    0.0667</td> <td>    0.016</td> <td>    4.179</td> <td> 0.000</td> <td>    0.035</td> <td>    0.098</td>\n",
       "</tr>\n",
       "<tr>\n",
       "  <th>Age3</th>                <td>   -0.0007</td> <td>    0.000</td> <td>   -3.855</td> <td> 0.000</td> <td>   -0.001</td> <td>   -0.000</td>\n",
       "</tr>\n",
       "<tr>\n",
       "  <th>Forward</th>             <td>   22.3363</td> <td>    4.241</td> <td>    5.267</td> <td> 0.000</td> <td>   14.025</td> <td>   30.648</td>\n",
       "</tr>\n",
       "<tr>\n",
       "  <th>Midfielder</th>          <td>   22.2400</td> <td>    4.228</td> <td>    5.260</td> <td> 0.000</td> <td>   13.953</td> <td>   30.527</td>\n",
       "</tr>\n",
       "<tr>\n",
       "  <th>Defender</th>            <td>   21.4111</td> <td>    4.187</td> <td>    5.114</td> <td> 0.000</td> <td>   13.205</td> <td>   29.617</td>\n",
       "</tr>\n",
       "<tr>\n",
       "  <th>Goalkeeper</th>          <td>   20.9470</td> <td>    4.168</td> <td>    5.026</td> <td> 0.000</td> <td>   12.778</td> <td>   29.116</td>\n",
       "</tr>\n",
       "</table>\n",
       "<table class=\"simpletable\">\n",
       "<tr>\n",
       "  <th>Omnibus:</th>       <td>1096.672</td> <th>  Durbin-Watson:     </th> <td>   1.152</td> \n",
       "</tr>\n",
       "<tr>\n",
       "  <th>Prob(Omnibus):</th>  <td> 0.000</td>  <th>  Jarque-Bera (JB):  </th> <td>37315.328</td>\n",
       "</tr>\n",
       "<tr>\n",
       "  <th>Skew:</th>           <td> 3.497</td>  <th>  Prob(JB):          </th> <td>    0.00</td> \n",
       "</tr>\n",
       "<tr>\n",
       "  <th>Kurtosis:</th>       <td>27.710</td>  <th>  Cond. No.          </th> <td>7.66e+06</td> \n",
       "</tr>\n",
       "</table><br/><br/>Warnings:<br/>[1] Standard Errors are heteroscedasticity robust (HC0)<br/>[2] The condition number is large, 7.66e+06. This might indicate that there are<br/>strong multicollinearity or other numerical problems."
      ],
      "text/plain": [
       "<class 'statsmodels.iolib.summary.Summary'>\n",
       "\"\"\"\n",
       "                            OLS Regression Results                            \n",
       "==============================================================================\n",
       "Dep. Variable:           CurrentPrice   R-squared:                       0.475\n",
       "Model:                            OLS   Adj. R-squared:                  0.470\n",
       "Method:                 Least Squares   F-statistic:                       nan\n",
       "Date:                Sat, 14 Nov 2020   Prob (F-statistic):                nan\n",
       "Time:                        11:25:38   Log-Likelihood:                -1229.8\n",
       "No. Observations:                1358   AIC:                             2484.\n",
       "Df Residuals:                    1346   BIC:                             2546.\n",
       "Df Model:                          11                                         \n",
       "Covariance Type:                  HC0                                         \n",
       "=======================================================================================\n",
       "                          coef    std err          z      P>|z|      [0.025      0.975]\n",
       "---------------------------------------------------------------------------------------\n",
       "Age_Forward            -2.0774      0.452     -4.594      0.000      -2.964      -1.191\n",
       "Age_Midfielder         -2.0850      0.452     -4.613      0.000      -2.971      -1.199\n",
       "Age_Defender           -2.0625      0.451     -4.578      0.000      -2.946      -1.179\n",
       "Age_Goalkeeper         -2.0435      0.450     -4.545      0.000      -2.925      -1.162\n",
       "ave_matchday_score     -0.0070      0.002     -2.982      0.003      -0.012      -0.002\n",
       "ave_matchday_score2     0.0001   2.11e-05      5.698      0.000    7.88e-05       0.000\n",
       "Age2                    0.0667      0.016      4.179      0.000       0.035       0.098\n",
       "Age3                   -0.0007      0.000     -3.855      0.000      -0.001      -0.000\n",
       "Forward                22.3363      4.241      5.267      0.000      14.025      30.648\n",
       "Midfielder             22.2400      4.228      5.260      0.000      13.953      30.527\n",
       "Defender               21.4111      4.187      5.114      0.000      13.205      29.617\n",
       "Goalkeeper             20.9470      4.168      5.026      0.000      12.778      29.116\n",
       "==============================================================================\n",
       "Omnibus:                     1096.672   Durbin-Watson:                   1.152\n",
       "Prob(Omnibus):                  0.000   Jarque-Bera (JB):            37315.328\n",
       "Skew:                           3.497   Prob(JB):                         0.00\n",
       "Kurtosis:                      27.710   Cond. No.                     7.66e+06\n",
       "==============================================================================\n",
       "\n",
       "Warnings:\n",
       "[1] Standard Errors are heteroscedasticity robust (HC0)\n",
       "[2] The condition number is large, 7.66e+06. This might indicate that there are\n",
       "strong multicollinearity or other numerical problems.\n",
       "\"\"\""
      ]
     },
     "execution_count": 32,
     "metadata": {},
     "output_type": "execute_result"
    }
   ],
   "source": [
    "# Adding interaction terms\n",
    "yX['Age_Defender'] = yX['Defender'] * yX['Age'] \n",
    "yX['Age_Midfielder'] = yX['Midfielder'] * yX['Age']\n",
    "yX['Age_Forward'] = yX['Forward'] * yX['Age']\n",
    "yX['Age_Goalkeeper'] = yX['Goalkeeper'] * yX['Age']\n",
    "\n",
    "yX['Age3'] = yX['Age'] ** 3\n",
    "\n",
    "X_interactions = yX[['Age_Forward', 'Age_Midfielder', 'Age_Defender', 'Age_Goalkeeper', \n",
    "                     'ave_matchday_score', 'ave_matchday_score2', 'Age2', 'Age3',#'num_games_played', \n",
    "                     'Forward', 'Midfielder', 'Defender', 'Goalkeeper']]\n",
    "\n",
    "model = sm.OLS(y, X_interactions).fit(cov_type='HC0')\n",
    "model.summary()"
   ]
  },
  {
   "cell_type": "markdown",
   "metadata": {},
   "source": [
    "We get a nice bump of 10% in R^2. From simple changes to model. (likely no-overfit)\n",
    "Res plots also reinforce use of HC0 standard errors. \n",
    "\n",
    "In the interest of Occam's protocol, we choose the first, and since we are explicitly looking for outlying data which denotes under-valued players we use this.\n",
    "\n",
    "Checking for headroom, do a cheeky random forest, (or short and sweet???)"
   ]
  },
  {
   "cell_type": "markdown",
   "metadata": {},
   "source": [
    "We will compare predictive capabilities of random forest and our OLS spec. for predictive power\n",
    "as a point of interest, to observe when increasing model complication, how predictable are player prices\n",
    "from these sparse factors, and in turn, have we over-simplified our ols spec. there is more to be gained in here from\n",
    "modelling more subtle non-linearities and interactions."
   ]
  },
  {
   "cell_type": "raw",
   "metadata": {},
   "source": [
    " Forget it, focus on sorting out deep water. Add your new cross-val chops into that. "
   ]
  }
 ],
 "metadata": {
  "kernelspec": {
   "display_name": "Python 3",
   "language": "python",
   "name": "python3"
  },
  "language_info": {
   "codemirror_mode": {
    "name": "ipython",
    "version": 3
   },
   "file_extension": ".py",
   "mimetype": "text/x-python",
   "name": "python",
   "nbconvert_exporter": "python",
   "pygments_lexer": "ipython3",
   "version": "3.7.7"
  }
 },
 "nbformat": 4,
 "nbformat_minor": 4
}
