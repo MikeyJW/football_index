{
 "cells": [
  {
   "cell_type": "markdown",
   "metadata": {},
   "source": [
    "# Fundamental value model for player prices"
   ]
  },
  {
   "cell_type": "markdown",
   "metadata": {},
   "source": [
    "TODO: Care can we do feature importance???"
   ]
  },
  {
   "cell_type": "markdown",
   "metadata": {},
   "source": [
    "TODO: Check interaction between position type and age for example. Goalies can be older, this effects the age situation a bit. Check how to sort this out. Or do the Random forest headroom trick\n",
    "acknowledge that could deal with this problem a little. Then identify some potentially undervalued bois."
   ]
  },
  {
   "cell_type": "code",
   "execution_count": null,
   "metadata": {},
   "outputs": [],
   "source": [
    "import numpy as np\n",
    "import pandas as pd\n",
    "import matplotlib.pyplot as plt\n",
    "import seaborn as sns\n",
    "import statsmodels.api as sm"
   ]
  },
  {
   "cell_type": "code",
   "execution_count": null,
   "metadata": {},
   "outputs": [],
   "source": [
    "# Import from files...\n",
    "df1 = pd.read_csv('matchday_scores.csv')\n",
    "df1['Date'] = pd.to_datetime(df1['Date'], format='%d/%m/%Y')\n",
    "\n",
    "df2 = pd.read_csv('player_info.csv')\n",
    "df2.set_index('PlayerName', inplace=True)"
   ]
  },
  {
   "cell_type": "code",
   "execution_count": null,
   "metadata": {},
   "outputs": [],
   "source": [
    "# Extract average matchday score since game x\n",
    "season_start = '2020-09-12' # Start of UK football season\n",
    "df1 = df1[df1['Date'] >= season_start]\n",
    "\n",
    "ave_matchday_score = df1.groupby('PlayerName')['MatchdayScore'].mean()\n",
    "num_games_played = df1.groupby('PlayerName').size()\n",
    "\n",
    "df2['ave_matchday_score'] = ave_matchday_score\n",
    "df2['num_games_played'] = num_games_played\n",
    "\n",
    "df = df2[['Position', 'Age', 'num_games_played', 'ave_matchday_score',  'CurrentPrice']]\n",
    "\n",
    "# Clean up df\n",
    "df['CurrentPrice'] = df['CurrentPrice'].str.strip('£').astype('float64')"
   ]
  },
  {
   "cell_type": "code",
   "execution_count": null,
   "metadata": {},
   "outputs": [],
   "source": [
    "# Generate positional dummies\n",
    "df = pd.get_dummies(df, prefix='', prefix_sep='')\n",
    "\n",
    "yX = df[df['num_games_played'] >= 5]\n",
    "\n",
    "yX['Age^2'] = yX['Age']**2\n",
    "yX['ave_matchday_score2'] = yX['ave_matchday_score']**2\n",
    "\n",
    "# Regress\n",
    "y = yX['CurrentPrice']\n",
    "X = yX[['Age', 'ave_matchday_score', #'num_games_played', \n",
    "        'Forward', 'Midfielder', 'Defender', 'Goalkeeper']]"
   ]
  },
  {
   "cell_type": "code",
   "execution_count": null,
   "metadata": {},
   "outputs": [],
   "source": [
    "# Check for multicollinearity among explanatory vars\n",
    "corr_table = X.corr()\n",
    "#mask = np.zeros_like(corr_table)\n",
    "#mask[np.triu_indices_from(mask)] = True\n",
    "sns.heatmap(corr_table, cmap=\"YlGnBu\")"
   ]
  },
  {
   "cell_type": "code",
   "execution_count": null,
   "metadata": {},
   "outputs": [],
   "source": [
    "# Proceed\n",
    "\n",
    "model = sm.OLS(y, X).fit(cov_type='HC0')\n",
    "model.summary()"
   ]
  },
  {
   "cell_type": "markdown",
   "metadata": {},
   "source": [
    "Optimise your spec"
   ]
  },
  {
   "cell_type": "code",
   "execution_count": null,
   "metadata": {},
   "outputs": [],
   "source": [
    "# Consider \n",
    "sm.graphics.plot_partregress('CurrentPrice', 'Age', ['ave_matchday_score', 'Forward', 'Midfielder', 'Defender', 'Goalkeeper'], data=yX, obs_labels=False)"
   ]
  },
  {
   "cell_type": "code",
   "execution_count": null,
   "metadata": {},
   "outputs": [],
   "source": [
    "# Try a square of age (check how you check if that's a valid change)\n",
    "sm.graphics.plot_partregress('CurrentPrice', 'ave_matchday_score', ['Age', 'Forward', 'Midfielder', 'Defender', 'Goalkeeper'], data=yX, obs_labels=False)\n",
    "# Try a square (or more?)\n",
    "# SAY THEY COULD BE OUTLIERS THO. lOOK AT THEM PLOTS, THEY'RE PRETTY WILD"
   ]
  },
  {
   "cell_type": "code",
   "execution_count": null,
   "metadata": {},
   "outputs": [],
   "source": [
    "X_adjusted = yX[['Age', 'Age^2', 'ave_matchday_score', 'ave_matchday_score^2',#'num_games_played', \n",
    "        'Forward', 'Midfielder', 'Defender', 'Goalkeeper']]\n",
    "\n",
    "model = sm.OLS(y, X_adjusted).fit(cov_type='HC0')\n",
    "model.summary()"
   ]
  },
  {
   "cell_type": "markdown",
   "metadata": {},
   "source": [
    "Checking for headroom, do a cheeky random forest, (or short and sweet???)"
   ]
  }
 ],
 "metadata": {
  "kernelspec": {
   "display_name": "Python 3",
   "language": "python",
   "name": "python3"
  },
  "language_info": {
   "codemirror_mode": {
    "name": "ipython",
    "version": 3
   },
   "file_extension": ".py",
   "mimetype": "text/x-python",
   "name": "python",
   "nbconvert_exporter": "python",
   "pygments_lexer": "ipython3",
   "version": "3.7.7"
  }
 },
 "nbformat": 4,
 "nbformat_minor": 4
}
